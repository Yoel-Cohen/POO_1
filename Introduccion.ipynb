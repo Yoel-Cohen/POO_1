{
  "nbformat": 4,
  "nbformat_minor": 0,
  "metadata": {
    "colab": {
      "provenance": []
    },
    "kernelspec": {
      "name": "python3",
      "display_name": "Python 3"
    },
    "language_info": {
      "name": "python"
    }
  },
  "cells": [
    {
      "cell_type": "code",
      "execution_count": 3,
      "metadata": {
        "id": "7no0HCn6UWbL"
      },
      "outputs": [],
      "source": []
    },
    {
      "cell_type": "markdown",
      "source": [
        "# introduccion a objetos\n",
        "\n",
        "Los primeros objetos son:\n",
        "1. Numeros (int, float), string (\"Hola)\n",
        "2. Listas.\n",
        "3. Variables.\n",
        "\n",
        "# Referencia: [Python OOP](https://mail.google.com/mail/u/0/?hl=es-419#inbox/QgrcJHrnzJZKlHHqlzNwhQLRvMDfcPdJHtV)\n",
        "\n"
      ],
      "metadata": {
        "id": "QgsV0EuTU63N"
      }
    },
    {
      "cell_type": "markdown",
      "source": [
        "Hay funciones que estan creadas detro de Python.\n"
      ],
      "metadata": {
        "id": "XiBPR1wHYAcv"
      }
    },
    {
      "cell_type": "code",
      "source": [
        "5+2\n",
        "\n"
      ],
      "metadata": {
        "colab": {
          "base_uri": "https://localhost:8080/"
        },
        "id": "hiSCWGs1YL4g",
        "outputId": "117561c8-2dac-4143-f6ec-7a55c020f903"
      },
      "execution_count": 4,
      "outputs": [
        {
          "output_type": "execute_result",
          "data": {
            "text/plain": [
              "7"
            ]
          },
          "metadata": {},
          "execution_count": 4
        }
      ]
    },
    {
      "cell_type": "code",
      "source": [
        "5*2*3*4\n",
        "# Multiplicacion\n"
      ],
      "metadata": {
        "colab": {
          "base_uri": "https://localhost:8080/"
        },
        "id": "V__pmEP9WhCW",
        "outputId": "8db63a48-d467-4a51-bb20-a01a9ef35fb9"
      },
      "execution_count": 5,
      "outputs": [
        {
          "output_type": "execute_result",
          "data": {
            "text/plain": [
              "120"
            ]
          },
          "metadata": {},
          "execution_count": 5
        }
      ]
    },
    {
      "cell_type": "markdown",
      "source": [
        "Letra Lateg\n",
        "$$ x^2 $$"
      ],
      "metadata": {
        "id": "cxLQeUKOZXy-"
      }
    },
    {
      "cell_type": "code",
      "source": [
        "10//9\n",
        " # Division al piso"
      ],
      "metadata": {
        "colab": {
          "base_uri": "https://localhost:8080/"
        },
        "id": "axS8iPW0i5Jx",
        "outputId": "2213ac7d-e126-42ff-8055-d36e81a53b19"
      },
      "execution_count": 6,
      "outputs": [
        {
          "output_type": "execute_result",
          "data": {
            "text/plain": [
              "1"
            ]
          },
          "metadata": {},
          "execution_count": 6
        }
      ]
    },
    {
      "cell_type": "code",
      "source": [
        "# debug (escribir en la consola)\n",
        "print (\"Hola mundo\")\n"
      ],
      "metadata": {
        "colab": {
          "base_uri": "https://localhost:8080/"
        },
        "id": "iHHPUVCRjS6p",
        "outputId": "34283d49-9eac-4c1e-f563-0bf138a90313"
      },
      "execution_count": 7,
      "outputs": [
        {
          "output_type": "stream",
          "name": "stdout",
          "text": [
            "Hola mundo\n"
          ]
        }
      ]
    },
    {
      "cell_type": "code",
      "source": [
        "#asignacion de variables\n",
        "nombre=\"Yoel\"\n",
        "print (nombre)"
      ],
      "metadata": {
        "colab": {
          "base_uri": "https://localhost:8080/"
        },
        "id": "f3iS6_pEkLVV",
        "outputId": "7b6d66cc-6657-4e7b-ed25-9ce6d789ed36"
      },
      "execution_count": 8,
      "outputs": [
        {
          "output_type": "stream",
          "name": "stdout",
          "text": [
            "Yoel\n"
          ]
        }
      ]
    },
    {
      "cell_type": "code",
      "source": [
        "###Funcion type: ¿Que tipo de objeto esta escrito?\n",
        "x=3\n",
        "y=2\n",
        "print(type(x/y))\n",
        "print(type(nombre))\n"
      ],
      "metadata": {
        "colab": {
          "base_uri": "https://localhost:8080/"
        },
        "id": "hxmYukrclx7P",
        "outputId": "bb051836-2812-42a4-d20e-24fc9d0fb497"
      },
      "execution_count": 9,
      "outputs": [
        {
          "output_type": "stream",
          "name": "stdout",
          "text": [
            "<class 'float'>\n",
            "<class 'str'>\n"
          ]
        }
      ]
    },
    {
      "cell_type": "markdown",
      "source": [
        "##Listas\n",
        "\n",
        "Las listas son objetos que se escriben con []\n"
      ],
      "metadata": {
        "id": "joSnf1vzFR5e"
      }
    },
    {
      "cell_type": "code",
      "source": [
        "L=[]\n",
        "type(L) #nos dice que tipo de objeto es"
      ],
      "metadata": {
        "colab": {
          "base_uri": "https://localhost:8080/"
        },
        "id": "a87wc7w9GIwH",
        "outputId": "0056223c-c922-472a-863b-c5fe3dbd9c32"
      },
      "execution_count": 10,
      "outputs": [
        {
          "output_type": "execute_result",
          "data": {
            "text/plain": [
              "list"
            ]
          },
          "metadata": {},
          "execution_count": 10
        }
      ]
    },
    {
      "cell_type": "code",
      "source": [
        "# La funcion range() es un generador de etiquetas\n",
        "range(3)"
      ],
      "metadata": {
        "colab": {
          "base_uri": "https://localhost:8080/"
        },
        "id": "PUOqwtkUG0hK",
        "outputId": "cacef686-665a-4a77-e820-3754fb59f6f5"
      },
      "execution_count": 11,
      "outputs": [
        {
          "output_type": "execute_result",
          "data": {
            "text/plain": [
              "range(0, 3)"
            ]
          },
          "metadata": {},
          "execution_count": 11
        }
      ]
    },
    {
      "cell_type": "code",
      "source": [
        "for i in range (8):\n",
        "  print (i)"
      ],
      "metadata": {
        "colab": {
          "base_uri": "https://localhost:8080/"
        },
        "id": "SKhWYPXTHTo3",
        "outputId": "0a473829-b133-443d-fc12-d26a923c0934"
      },
      "execution_count": 12,
      "outputs": [
        {
          "output_type": "stream",
          "name": "stdout",
          "text": [
            "0\n",
            "1\n",
            "2\n",
            "3\n",
            "4\n",
            "5\n",
            "6\n",
            "7\n"
          ]
        }
      ]
    },
    {
      "cell_type": "code",
      "source": [
        "for i in range (8):\n",
        "   L.append(i) #agrega elementos a la lista\n",
        "print (L)"
      ],
      "metadata": {
        "colab": {
          "base_uri": "https://localhost:8080/"
        },
        "id": "I_pr4KZ6HxG7",
        "outputId": "fab30b23-3d7a-43fa-a9fa-eaa3741ccd34"
      },
      "execution_count": 13,
      "outputs": [
        {
          "output_type": "stream",
          "name": "stdout",
          "text": [
            "[0, 1, 2, 3, 4, 5, 6, 7]\n"
          ]
        }
      ]
    },
    {
      "cell_type": "markdown",
      "source": [
        "#Accesos de una lista\n",
        "\n"
      ],
      "metadata": {
        "id": "bIR_EEnXL-3a"
      }
    },
    {
      "cell_type": "code",
      "source": [
        "L[4:8] #determina que numeros de la lista quieres"
      ],
      "metadata": {
        "colab": {
          "base_uri": "https://localhost:8080/"
        },
        "id": "iUHfNdbjMFqk",
        "outputId": "487ff484-4d4d-4a53-8d63-d8af4e28c04a"
      },
      "execution_count": 14,
      "outputs": [
        {
          "output_type": "execute_result",
          "data": {
            "text/plain": [
              "[4, 5, 6, 7]"
            ]
          },
          "metadata": {},
          "execution_count": 14
        }
      ]
    },
    {
      "cell_type": "code",
      "source": [
        "L[0:]"
      ],
      "metadata": {
        "colab": {
          "base_uri": "https://localhost:8080/"
        },
        "id": "NIQeS6dBMikC",
        "outputId": "9ca5162e-1bcb-4e11-9dae-e97b08fa713c"
      },
      "execution_count": 15,
      "outputs": [
        {
          "output_type": "execute_result",
          "data": {
            "text/plain": [
              "[0, 1, 2, 3, 4, 5, 6, 7]"
            ]
          },
          "metadata": {},
          "execution_count": 15
        }
      ]
    },
    {
      "cell_type": "code",
      "source": [
        "P= [] # se agrego otra lista y se estan viendo los numeros pares\n",
        "\n",
        "for i in L:\n",
        "  if i % 2 == 0:\n",
        "    P.append(i)\n",
        "P"
      ],
      "metadata": {
        "colab": {
          "base_uri": "https://localhost:8080/"
        },
        "id": "wMpwXsV-Myec",
        "outputId": "16c54776-914a-4ee2-8de5-8d21f2654873"
      },
      "execution_count": 16,
      "outputs": [
        {
          "output_type": "execute_result",
          "data": {
            "text/plain": [
              "[0, 2, 4, 6]"
            ]
          },
          "metadata": {},
          "execution_count": 16
        }
      ]
    },
    {
      "cell_type": "code",
      "source": [
        "I= [i for i in L if i%2 ==1]\n",
        "I"
      ],
      "metadata": {
        "colab": {
          "base_uri": "https://localhost:8080/"
        },
        "id": "AQdOoz78OhMj",
        "outputId": "8d4453f8-c3db-47af-f43c-dfe7edfc4a2f"
      },
      "execution_count": 17,
      "outputs": [
        {
          "output_type": "execute_result",
          "data": {
            "text/plain": [
              "[1, 3, 5, 7]"
            ]
          },
          "metadata": {},
          "execution_count": 17
        }
      ]
    },
    {
      "cell_type": "code",
      "source": [
        "P + I # la suma de las 2 listas"
      ],
      "metadata": {
        "id": "iK1Wxei69lQl",
        "outputId": "166000a7-b404-4cfa-c5ec-3d409f4afe0d",
        "colab": {
          "base_uri": "https://localhost:8080/"
        }
      },
      "execution_count": 18,
      "outputs": [
        {
          "output_type": "execute_result",
          "data": {
            "text/plain": [
              "[0, 2, 4, 6, 1, 3, 5, 7]"
            ]
          },
          "metadata": {},
          "execution_count": 18
        }
      ]
    },
    {
      "cell_type": "code",
      "source": [
        "I + P"
      ],
      "metadata": {
        "id": "1bjTzYRa-JnO",
        "colab": {
          "base_uri": "https://localhost:8080/"
        },
        "outputId": "39a7b602-277c-4021-c438-016a11f2222c"
      },
      "execution_count": 19,
      "outputs": [
        {
          "output_type": "execute_result",
          "data": {
            "text/plain": [
              "[1, 3, 5, 7, 0, 2, 4, 6]"
            ]
          },
          "metadata": {},
          "execution_count": 19
        }
      ]
    },
    {
      "cell_type": "markdown",
      "source": [
        "#Conjuntos"
      ],
      "metadata": {
        "id": "AWiy-vkD-PeV"
      }
    },
    {
      "cell_type": "code",
      "source": [
        "sP = set(P) # Crear conjunto a partir de la lista P con set\n",
        "sI= set(I) #Crear conjunto a partir de la lista I con set\n",
        "\n",
        "print (sP)\n",
        "print (sI)"
      ],
      "metadata": {
        "colab": {
          "base_uri": "https://localhost:8080/"
        },
        "id": "G8614GK4BJuU",
        "outputId": "0a7f9740-0279-4855-ad28-cf56f6b946bc"
      },
      "execution_count": 21,
      "outputs": [
        {
          "output_type": "stream",
          "name": "stdout",
          "text": [
            "{0, 2, 4, 6}\n",
            "{1, 3, 5, 7}\n"
          ]
        }
      ]
    },
    {
      "cell_type": "code",
      "source": [
        "sP.intersection(sI)"
      ],
      "metadata": {
        "colab": {
          "base_uri": "https://localhost:8080/"
        },
        "id": "KGfxhcHABnDQ",
        "outputId": "cbc5264d-4e68-45d4-a63b-7b0b73fdb2b7"
      },
      "execution_count": 22,
      "outputs": [
        {
          "output_type": "execute_result",
          "data": {
            "text/plain": [
              "set()"
            ]
          },
          "metadata": {},
          "execution_count": 22
        }
      ]
    },
    {
      "cell_type": "code",
      "source": [
        "sP.union(sI) # La union de los 2 sets"
      ],
      "metadata": {
        "id": "2IKpof6sBu1Y",
        "colab": {
          "base_uri": "https://localhost:8080/"
        },
        "outputId": "62d2ff37-a16f-4a98-cb8b-c7227ddd100b"
      },
      "execution_count": 23,
      "outputs": [
        {
          "output_type": "execute_result",
          "data": {
            "text/plain": [
              "{0, 1, 2, 3, 4, 5, 6, 7}"
            ]
          },
          "metadata": {},
          "execution_count": 23
        }
      ]
    }
  ]
}