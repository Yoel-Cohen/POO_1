{
  "nbformat": 4,
  "nbformat_minor": 0,
  "metadata": {
    "colab": {
      "provenance": []
    },
    "kernelspec": {
      "name": "python3",
      "display_name": "Python 3"
    },
    "language_info": {
      "name": "python"
    }
  },
  "cells": [
    {
      "cell_type": "markdown",
      "source": [
        "## Uso de clases, herencias y polimorfismos"
      ],
      "metadata": {
        "id": "oDQS1eKNQXWa"
      }
    },
    {
      "cell_type": "code",
      "execution_count": null,
      "metadata": {
        "id": "rQeA_S-AQUdK"
      },
      "outputs": [],
      "source": [
        "from math import pi, e"
      ]
    },
    {
      "cell_type": "code",
      "source": [
        "pi, e"
      ],
      "metadata": {
        "colab": {
          "base_uri": "https://localhost:8080/"
        },
        "id": "P89COtOiRG_M",
        "outputId": "1797e336-cf36-420d-f238-b2f72f81c4cb"
      },
      "execution_count": null,
      "outputs": [
        {
          "output_type": "execute_result",
          "data": {
            "text/plain": [
              "(3.141592653589793, 2.718281828459045)"
            ]
          },
          "metadata": {},
          "execution_count": 2
        }
      ]
    },
    {
      "cell_type": "code",
      "source": [
        "# Clase madre\n",
        "class Figura:\n",
        "    def __init__(self):\n",
        "        pass\n",
        "\n",
        "    def area(self):\n",
        "       return 0\n",
        "\n",
        "    def perimetro(self, nombre):\n",
        "       return 0\n",
        "\n",
        "# crear clase heredada\n",
        "\n",
        "class Cuadrado(Figura):\n",
        "   def __init__(self,lado):\n",
        "      self.lado=lado\n",
        "\n",
        "# Metodo sobrecargado  = de la clase heredada\n",
        "   def area(self):\n",
        "      return self.lado**2\n",
        "\n",
        "   def perimetro(self):\n",
        "      return self.lado*4\n",
        "# metodo sobre cargado\n",
        "\n",
        "class Circulo(Figura):\n",
        "  def __init__(self, radio):\n",
        "   self.radio=radio\n",
        "\n",
        "  def area(self):\n",
        "   return pi* self.radio**2\n",
        "\n",
        "  def perimetro(self):\n",
        "    return pi*self.radio*2\n",
        "\n",
        "\n",
        "# Triangulo\n",
        "\n",
        "class Triangulo(Figura):\n",
        " def __init__ (self, base, altura):\n",
        "  self.base= base\n",
        "  self.altura=altura\n",
        "\n",
        " def area(self):\n",
        "  return self.base*self.altura/2\n",
        "\n",
        " def perimetro(self):\n",
        "    c=(self.base**2 + self.altura**2)**0.5\n",
        "    return self.base +self.altura + c\n"
      ],
      "metadata": {
        "id": "bMRSa1KTRfbh"
      },
      "execution_count": null,
      "outputs": []
    },
    {
      "cell_type": "code",
      "source": [
        "figura= Figura()\n",
        "figura.area()\n"
      ],
      "metadata": {
        "colab": {
          "base_uri": "https://localhost:8080/"
        },
        "id": "syFXl48HSfmy",
        "outputId": "c91817fd-9e96-4926-9f1e-1ccdaac53b35"
      },
      "execution_count": null,
      "outputs": [
        {
          "output_type": "execute_result",
          "data": {
            "text/plain": [
              "0"
            ]
          },
          "metadata": {},
          "execution_count": 4
        }
      ]
    },
    {
      "cell_type": "code",
      "source": [
        "Cuadrado(2).area()\n"
      ],
      "metadata": {
        "colab": {
          "base_uri": "https://localhost:8080/"
        },
        "id": "kOWqJDQnUQct",
        "outputId": "0ba6851e-186b-4ce8-e722-5981c89929ff"
      },
      "execution_count": null,
      "outputs": [
        {
          "output_type": "execute_result",
          "data": {
            "text/plain": [
              "4"
            ]
          },
          "metadata": {},
          "execution_count": 5
        }
      ]
    },
    {
      "cell_type": "code",
      "source": [
        "Circulo(3).area()"
      ],
      "metadata": {
        "colab": {
          "base_uri": "https://localhost:8080/"
        },
        "id": "6af2w7cfVRs_",
        "outputId": "8d90d1cb-9753-4291-f2f9-ebbcc70a8e04"
      },
      "execution_count": null,
      "outputs": [
        {
          "output_type": "execute_result",
          "data": {
            "text/plain": [
              "28.274333882308138"
            ]
          },
          "metadata": {},
          "execution_count": 6
        }
      ]
    },
    {
      "cell_type": "code",
      "source": [
        "Circulo(7).perimetro()"
      ],
      "metadata": {
        "colab": {
          "base_uri": "https://localhost:8080/"
        },
        "id": "1RBLquJCWfrj",
        "outputId": "61a0fc90-bc35-4595-bd29-3c3e44049aaf"
      },
      "execution_count": null,
      "outputs": [
        {
          "output_type": "execute_result",
          "data": {
            "text/plain": [
              "43.982297150257104"
            ]
          },
          "metadata": {},
          "execution_count": 7
        }
      ]
    },
    {
      "cell_type": "code",
      "source": [
        "Triangulo(4,7).area()"
      ],
      "metadata": {
        "colab": {
          "base_uri": "https://localhost:8080/"
        },
        "id": "ikdYh9MtZooW",
        "outputId": "87b78ecc-3036-4a3f-8dfb-e5fe7cb537d1"
      },
      "execution_count": null,
      "outputs": [
        {
          "output_type": "execute_result",
          "data": {
            "text/plain": [
              "14.0"
            ]
          },
          "metadata": {},
          "execution_count": 8
        }
      ]
    },
    {
      "cell_type": "code",
      "source": [
        "Triangulo(4,7).perimetro()"
      ],
      "metadata": {
        "colab": {
          "base_uri": "https://localhost:8080/"
        },
        "id": "OO2L8e5LaSXw",
        "outputId": "e0e239aa-a6b0-472b-d6fc-b74456ae5ceb"
      },
      "execution_count": null,
      "outputs": [
        {
          "output_type": "execute_result",
          "data": {
            "text/plain": [
              "19.06225774829855"
            ]
          },
          "metadata": {},
          "execution_count": 9
        }
      ]
    },
    {
      "cell_type": "code",
      "source": [
        "#Imprimir todas las areas\n",
        "L= [Cuadrado(5), Circulo(5), Triangulo(3,5)]\n",
        "\n",
        "for f in L:\n",
        "  print(f\"El area del {f.__class__.__name__} es {f.area()}\")"
      ],
      "metadata": {
        "colab": {
          "base_uri": "https://localhost:8080/"
        },
        "id": "-jBu1nHdaykp",
        "outputId": "adba843d-c2e5-434d-e0ab-789b55a9735e"
      },
      "execution_count": null,
      "outputs": [
        {
          "output_type": "stream",
          "name": "stdout",
          "text": [
            "El area del Cuadrado es 25\n",
            "El area del Circulo es 78.53981633974483\n",
            "El area del Triangulo es 7.5\n"
          ]
        }
      ]
    },
    {
      "cell_type": "code",
      "source": [
        "for f in L:\n",
        "  print(f\"El perimetro del {f.__class__.__name__} es {f.perimetro()}\")"
      ],
      "metadata": {
        "colab": {
          "base_uri": "https://localhost:8080/"
        },
        "id": "Fu9o2sI-b48I",
        "outputId": "dec5b68f-1204-4946-d8b9-a37e57f6a140"
      },
      "execution_count": null,
      "outputs": [
        {
          "output_type": "stream",
          "name": "stdout",
          "text": [
            "El perimetro del Cuadrado es 20\n",
            "El perimetro del Circulo es 31.41592653589793\n",
            "El perimetro del Triangulo es 13.8309518948453\n"
          ]
        }
      ]
    }
  ]
}