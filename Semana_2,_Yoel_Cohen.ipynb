{
  "nbformat": 4,
  "nbformat_minor": 0,
  "metadata": {
    "colab": {
      "provenance": []
    },
    "kernelspec": {
      "name": "python3",
      "display_name": "Python 3"
    },
    "language_info": {
      "name": "python"
    }
  },
  "cells": [
    {
      "cell_type": "markdown",
      "source": [
        "# Clases e instancias\n",
        "\n",
        "Una definiicion en Python es una funcion que se puede usar de manera permanente y global en el mismo notebook\n"
      ],
      "metadata": {
        "id": "-ozopZL-R7bT"
      }
    },
    {
      "cell_type": "code",
      "execution_count": 1,
      "metadata": {
        "id": "Pj-D2Cw2RIZM"
      },
      "outputs": [],
      "source": [
        "def saludo():\n",
        "  print (\"Hola,¿Cómo estas?\")"
      ]
    },
    {
      "cell_type": "code",
      "source": [
        "saludo()"
      ],
      "metadata": {
        "colab": {
          "base_uri": "https://localhost:8080/"
        },
        "id": "whk-zSKDSXqS",
        "outputId": "52e81b17-6de1-48c9-8d45-afe000f9506e"
      },
      "execution_count": 2,
      "outputs": [
        {
          "output_type": "stream",
          "name": "stdout",
          "text": [
            "Hola,¿Cómo estas?\n"
          ]
        }
      ]
    },
    {
      "cell_type": "code",
      "source": [
        "def suma (a, b, c):\n",
        "  z= 3*a-b+ 5*c\n",
        "  return z"
      ],
      "metadata": {
        "id": "OgRYHddTS_RN"
      },
      "execution_count": 3,
      "outputs": []
    },
    {
      "cell_type": "code",
      "source": [
        "suma (2,4,6)"
      ],
      "metadata": {
        "colab": {
          "base_uri": "https://localhost:8080/"
        },
        "id": "9IkFGpCPTsUV",
        "outputId": "2c7b0d0c-ece4-49c4-bb36-841c463b0a58"
      },
      "execution_count": 4,
      "outputs": [
        {
          "output_type": "execute_result",
          "data": {
            "text/plain": [
              "32"
            ]
          },
          "metadata": {},
          "execution_count": 4
        }
      ]
    },
    {
      "cell_type": "code",
      "source": [
        "def sumar_complejos(z,w):\n",
        "  return z + w"
      ],
      "metadata": {
        "id": "bXHPohqTVLgs"
      },
      "execution_count": 5,
      "outputs": []
    },
    {
      "cell_type": "code",
      "source": [
        "sumar_complejos(1+3j,7+10j)"
      ],
      "metadata": {
        "colab": {
          "base_uri": "https://localhost:8080/"
        },
        "id": "KERcCe43Vh4h",
        "outputId": "2770f44a-35c9-406e-fe44-9287fa6f245f"
      },
      "execution_count": 6,
      "outputs": [
        {
          "output_type": "execute_result",
          "data": {
            "text/plain": [
              "(8+13j)"
            ]
          },
          "metadata": {},
          "execution_count": 6
        }
      ]
    },
    {
      "cell_type": "markdown",
      "source": [
        "#**Clases**"
      ],
      "metadata": {
        "id": "uQ_nml0DWiz9"
      }
    },
    {
      "cell_type": "code",
      "source": [
        "class persona: #Clase sin atributos\n",
        "  pass"
      ],
      "metadata": {
        "id": "xt1VqrfYV0CF"
      },
      "execution_count": 7,
      "outputs": []
    },
    {
      "cell_type": "code",
      "source": [
        "class persona:\n",
        "  def __init__ (self, nombre, edad, sexo):\n",
        "   self.nombre= nombre\n",
        "   self.edad= edad\n",
        "   self.sexo= sexo\n",
        "\n",
        "  def saludar(self):\n",
        "   print(\"Hola soy: \" + self.nombre)\n",
        "\n",
        "  def cumplir_años(self):\n",
        "    self.edad +=1\n",
        "    print(f\"Feliz cumpleaños, {self.nombre}, cumples {self.edad} años\")"
      ],
      "metadata": {
        "id": "Pa3VAwgHXQZL"
      },
      "execution_count": 8,
      "outputs": []
    },
    {
      "cell_type": "code",
      "source": [
        "Julian= persona  (\"Julian\", 24,\"M\")"
      ],
      "metadata": {
        "id": "T828CpiJazB9"
      },
      "execution_count": 9,
      "outputs": []
    },
    {
      "cell_type": "code",
      "source": [
        "Julian.nombre"
      ],
      "metadata": {
        "colab": {
          "base_uri": "https://localhost:8080/",
          "height": 35
        },
        "id": "3ZBh4FPzbVP_",
        "outputId": "07073cc1-4102-471a-80d2-5c91d73ffa8b"
      },
      "execution_count": 10,
      "outputs": [
        {
          "output_type": "execute_result",
          "data": {
            "text/plain": [
              "'Julian'"
            ],
            "application/vnd.google.colaboratory.intrinsic+json": {
              "type": "string"
            }
          },
          "metadata": {},
          "execution_count": 10
        }
      ]
    },
    {
      "cell_type": "code",
      "source": [
        "Julian.edad"
      ],
      "metadata": {
        "colab": {
          "base_uri": "https://localhost:8080/"
        },
        "id": "5TVH5TWPbcCb",
        "outputId": "ba9df87a-04ad-4d9b-a0d5-9111c27773b6"
      },
      "execution_count": 11,
      "outputs": [
        {
          "output_type": "execute_result",
          "data": {
            "text/plain": [
              "24"
            ]
          },
          "metadata": {},
          "execution_count": 11
        }
      ]
    },
    {
      "cell_type": "code",
      "source": [
        "Julian.sexo"
      ],
      "metadata": {
        "colab": {
          "base_uri": "https://localhost:8080/",
          "height": 35
        },
        "id": "FLvXfINzbfdD",
        "outputId": "cdb948a9-bb82-478e-c3d9-31adcaeb635f"
      },
      "execution_count": 12,
      "outputs": [
        {
          "output_type": "execute_result",
          "data": {
            "text/plain": [
              "'M'"
            ],
            "application/vnd.google.colaboratory.intrinsic+json": {
              "type": "string"
            }
          },
          "metadata": {},
          "execution_count": 12
        }
      ]
    },
    {
      "cell_type": "code",
      "source": [
        "Julian.saludar()"
      ],
      "metadata": {
        "colab": {
          "base_uri": "https://localhost:8080/"
        },
        "id": "u9Zdjy1lbmAJ",
        "outputId": "762642b8-be91-44a1-e344-7754b1144638"
      },
      "execution_count": 13,
      "outputs": [
        {
          "output_type": "stream",
          "name": "stdout",
          "text": [
            "Hola soy: Julian\n"
          ]
        }
      ]
    },
    {
      "cell_type": "code",
      "source": [
        "Julian.cumplir_años()"
      ],
      "metadata": {
        "colab": {
          "base_uri": "https://localhost:8080/"
        },
        "id": "Yv7uHJTqb3Bt",
        "outputId": "e6160370-9a94-4518-98db-c7c6a3480d34"
      },
      "execution_count": 15,
      "outputs": [
        {
          "output_type": "stream",
          "name": "stdout",
          "text": [
            "Feliz cumpleaños, Julian, cumples 26 años\n"
          ]
        }
      ]
    },
    {
      "cell_type": "markdown",
      "source": [],
      "metadata": {
        "id": "A1l0kNbpoQr-"
      }
    }
  ]
}